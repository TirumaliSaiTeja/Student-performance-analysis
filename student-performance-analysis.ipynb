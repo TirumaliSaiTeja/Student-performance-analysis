{
 "cells": [
  {
   "cell_type": "markdown",
   "metadata": {},
   "source": [
    "Student Performance Analytics"
   ]
  },
  {
   "cell_type": "markdown",
   "metadata": {},
   "source": [
    "This study examines the connections between academic accomplishment, socioeconomic variables, and demographic characteristics by analyzing a large dataset of student performance. We hope to learn more about the factors that affect students' arithmetic, reading, and writing results by looking at factors like gender, race/ethnicity, parental education, lunch status, and test preparation. In order to improve learning outcomes and educational equity, we seek to find trends and patterns that can guide educational initiatives and policies.\n",
    "\n",
    "Exploratory data analysis (EDA), data visualization, data loading, and basic statistical analysis will all be covered. I'll list the essential information and actions we need take in order to examine this student performance data:\n"
   ]
  },
  {
   "cell_type": "markdown",
   "metadata": {},
   "source": [
    "Importing Necessary Libraries"
   ]
  },
  {
   "cell_type": "code",
   "execution_count": 2,
   "metadata": {},
   "outputs": [
    {
     "name": "stderr",
     "output_type": "stream",
     "text": [
      "<frozen importlib._bootstrap>:219: RuntimeWarning: numpy.ufunc size changed, may indicate binary incompatibility. Expected 192 from C header, got 232 from PyObject\n",
      "<frozen importlib._bootstrap>:219: RuntimeWarning: numpy.ufunc size changed, may indicate binary incompatibility. Expected 192 from C header, got 232 from PyObject\n",
      "<frozen importlib._bootstrap>:219: RuntimeWarning: numpy.ufunc size changed, may indicate binary incompatibility. Expected 192 from C header, got 232 from PyObject\n"
     ]
    }
   ],
   "source": [
    "import pandas as pd \n",
    "import matplotlib.pyplot as plt \n",
    "import seaborn as sns"
   ]
  },
  {
   "cell_type": "markdown",
   "metadata": {},
   "source": [
    "Loading the dataset into pandas dataframe "
   ]
  },
  {
   "cell_type": "code",
   "execution_count": 5,
   "metadata": {},
   "outputs": [
    {
     "data": {
      "text/html": [
       "<div>\n",
       "<style scoped>\n",
       "    .dataframe tbody tr th:only-of-type {\n",
       "        vertical-align: middle;\n",
       "    }\n",
       "\n",
       "    .dataframe tbody tr th {\n",
       "        vertical-align: top;\n",
       "    }\n",
       "\n",
       "    .dataframe thead th {\n",
       "        text-align: right;\n",
       "    }\n",
       "</style>\n",
       "<table border=\"1\" class=\"dataframe\">\n",
       "  <thead>\n",
       "    <tr style=\"text-align: right;\">\n",
       "      <th></th>\n",
       "      <th>gender</th>\n",
       "      <th>race_ethnicity</th>\n",
       "      <th>parental_level_of_education</th>\n",
       "      <th>lunch</th>\n",
       "      <th>test_preparation_course</th>\n",
       "      <th>math_score</th>\n",
       "      <th>reading_score</th>\n",
       "      <th>writing_score</th>\n",
       "      <th>total_score</th>\n",
       "      <th>average_score</th>\n",
       "    </tr>\n",
       "  </thead>\n",
       "  <tbody>\n",
       "    <tr>\n",
       "      <th>0</th>\n",
       "      <td>0</td>\n",
       "      <td>group B</td>\n",
       "      <td>bachelor's degree</td>\n",
       "      <td>1</td>\n",
       "      <td>0</td>\n",
       "      <td>72</td>\n",
       "      <td>72</td>\n",
       "      <td>74</td>\n",
       "      <td>218</td>\n",
       "      <td>72.666667</td>\n",
       "    </tr>\n",
       "    <tr>\n",
       "      <th>1</th>\n",
       "      <td>0</td>\n",
       "      <td>group C</td>\n",
       "      <td>some college</td>\n",
       "      <td>1</td>\n",
       "      <td>1</td>\n",
       "      <td>69</td>\n",
       "      <td>90</td>\n",
       "      <td>88</td>\n",
       "      <td>247</td>\n",
       "      <td>82.333333</td>\n",
       "    </tr>\n",
       "    <tr>\n",
       "      <th>2</th>\n",
       "      <td>0</td>\n",
       "      <td>group B</td>\n",
       "      <td>master's degree</td>\n",
       "      <td>1</td>\n",
       "      <td>0</td>\n",
       "      <td>90</td>\n",
       "      <td>95</td>\n",
       "      <td>93</td>\n",
       "      <td>278</td>\n",
       "      <td>92.666667</td>\n",
       "    </tr>\n",
       "    <tr>\n",
       "      <th>3</th>\n",
       "      <td>1</td>\n",
       "      <td>group A</td>\n",
       "      <td>associate's degree</td>\n",
       "      <td>0</td>\n",
       "      <td>0</td>\n",
       "      <td>47</td>\n",
       "      <td>57</td>\n",
       "      <td>44</td>\n",
       "      <td>148</td>\n",
       "      <td>49.333333</td>\n",
       "    </tr>\n",
       "    <tr>\n",
       "      <th>4</th>\n",
       "      <td>1</td>\n",
       "      <td>group C</td>\n",
       "      <td>some college</td>\n",
       "      <td>1</td>\n",
       "      <td>0</td>\n",
       "      <td>76</td>\n",
       "      <td>78</td>\n",
       "      <td>75</td>\n",
       "      <td>229</td>\n",
       "      <td>76.333333</td>\n",
       "    </tr>\n",
       "  </tbody>\n",
       "</table>\n",
       "</div>"
      ],
      "text/plain": [
       "   gender race_ethnicity parental_level_of_education  lunch  \\\n",
       "0       0        group B           bachelor's degree      1   \n",
       "1       0        group C                some college      1   \n",
       "2       0        group B             master's degree      1   \n",
       "3       1        group A          associate's degree      0   \n",
       "4       1        group C                some college      1   \n",
       "\n",
       "   test_preparation_course  math_score  reading_score  writing_score  \\\n",
       "0                        0          72             72             74   \n",
       "1                        1          69             90             88   \n",
       "2                        0          90             95             93   \n",
       "3                        0          47             57             44   \n",
       "4                        0          76             78             75   \n",
       "\n",
       "   total_score  average_score  \n",
       "0          218      72.666667  \n",
       "1          247      82.333333  \n",
       "2          278      92.666667  \n",
       "3          148      49.333333  \n",
       "4          229      76.333333  "
      ]
     },
     "execution_count": 5,
     "metadata": {},
     "output_type": "execute_result"
    }
   ],
   "source": [
    "#loading the dataset into dataframe\n",
    "df = pd.read_csv(r\"C:\\Users\\tsait\\Downloads\\students_dataset\\students-cleandataset.csv\")\n",
    "#it will display first 5 rows from the dataset \n",
    "df.head() \n",
    "\n"
   ]
  },
  {
   "cell_type": "code",
   "execution_count": 6,
   "metadata": {},
   "outputs": [
    {
     "data": {
      "text/html": [
       "<div>\n",
       "<style scoped>\n",
       "    .dataframe tbody tr th:only-of-type {\n",
       "        vertical-align: middle;\n",
       "    }\n",
       "\n",
       "    .dataframe tbody tr th {\n",
       "        vertical-align: top;\n",
       "    }\n",
       "\n",
       "    .dataframe thead th {\n",
       "        text-align: right;\n",
       "    }\n",
       "</style>\n",
       "<table border=\"1\" class=\"dataframe\">\n",
       "  <thead>\n",
       "    <tr style=\"text-align: right;\">\n",
       "      <th></th>\n",
       "      <th>gender</th>\n",
       "      <th>race_ethnicity</th>\n",
       "      <th>parental_level_of_education</th>\n",
       "      <th>lunch</th>\n",
       "      <th>test_preparation_course</th>\n",
       "      <th>math_score</th>\n",
       "      <th>reading_score</th>\n",
       "      <th>writing_score</th>\n",
       "      <th>total_score</th>\n",
       "      <th>average_score</th>\n",
       "    </tr>\n",
       "  </thead>\n",
       "  <tbody>\n",
       "    <tr>\n",
       "      <th>995</th>\n",
       "      <td>0</td>\n",
       "      <td>group E</td>\n",
       "      <td>master's degree</td>\n",
       "      <td>1</td>\n",
       "      <td>1</td>\n",
       "      <td>88</td>\n",
       "      <td>99</td>\n",
       "      <td>95</td>\n",
       "      <td>282</td>\n",
       "      <td>94.000000</td>\n",
       "    </tr>\n",
       "    <tr>\n",
       "      <th>996</th>\n",
       "      <td>1</td>\n",
       "      <td>group C</td>\n",
       "      <td>high school</td>\n",
       "      <td>0</td>\n",
       "      <td>0</td>\n",
       "      <td>62</td>\n",
       "      <td>55</td>\n",
       "      <td>55</td>\n",
       "      <td>172</td>\n",
       "      <td>57.333333</td>\n",
       "    </tr>\n",
       "    <tr>\n",
       "      <th>997</th>\n",
       "      <td>0</td>\n",
       "      <td>group C</td>\n",
       "      <td>high school</td>\n",
       "      <td>0</td>\n",
       "      <td>1</td>\n",
       "      <td>59</td>\n",
       "      <td>71</td>\n",
       "      <td>65</td>\n",
       "      <td>195</td>\n",
       "      <td>65.000000</td>\n",
       "    </tr>\n",
       "    <tr>\n",
       "      <th>998</th>\n",
       "      <td>0</td>\n",
       "      <td>group D</td>\n",
       "      <td>some college</td>\n",
       "      <td>1</td>\n",
       "      <td>1</td>\n",
       "      <td>68</td>\n",
       "      <td>78</td>\n",
       "      <td>77</td>\n",
       "      <td>223</td>\n",
       "      <td>74.333333</td>\n",
       "    </tr>\n",
       "    <tr>\n",
       "      <th>999</th>\n",
       "      <td>0</td>\n",
       "      <td>group D</td>\n",
       "      <td>some college</td>\n",
       "      <td>0</td>\n",
       "      <td>0</td>\n",
       "      <td>77</td>\n",
       "      <td>86</td>\n",
       "      <td>86</td>\n",
       "      <td>249</td>\n",
       "      <td>83.000000</td>\n",
       "    </tr>\n",
       "  </tbody>\n",
       "</table>\n",
       "</div>"
      ],
      "text/plain": [
       "     gender race_ethnicity parental_level_of_education  lunch  \\\n",
       "995       0        group E             master's degree      1   \n",
       "996       1        group C                 high school      0   \n",
       "997       0        group C                 high school      0   \n",
       "998       0        group D                some college      1   \n",
       "999       0        group D                some college      0   \n",
       "\n",
       "     test_preparation_course  math_score  reading_score  writing_score  \\\n",
       "995                        1          88             99             95   \n",
       "996                        0          62             55             55   \n",
       "997                        1          59             71             65   \n",
       "998                        1          68             78             77   \n",
       "999                        0          77             86             86   \n",
       "\n",
       "     total_score  average_score  \n",
       "995          282      94.000000  \n",
       "996          172      57.333333  \n",
       "997          195      65.000000  \n",
       "998          223      74.333333  \n",
       "999          249      83.000000  "
      ]
     },
     "execution_count": 6,
     "metadata": {},
     "output_type": "execute_result"
    }
   ],
   "source": [
    "#it will display last 5 rows from the dataset \n",
    "df.tail()"
   ]
  },
  {
   "cell_type": "markdown",
   "metadata": {},
   "source": [
    "Data Exploration \n",
    "checking for the missing values and exploring the dataset "
   ]
  },
  {
   "cell_type": "code",
   "execution_count": 7,
   "metadata": {},
   "outputs": [
    {
     "name": "stdout",
     "output_type": "stream",
     "text": [
      "gender                         0\n",
      "race_ethnicity                 0\n",
      "parental_level_of_education    0\n",
      "lunch                          0\n",
      "test_preparation_course        0\n",
      "math_score                     0\n",
      "reading_score                  0\n",
      "writing_score                  0\n",
      "total_score                    0\n",
      "average_score                  0\n",
      "dtype: int64\n"
     ]
    }
   ],
   "source": [
    "# check the missing values \n",
    "print(df.isnull().sum())"
   ]
  },
  {
   "cell_type": "code",
   "execution_count": 8,
   "metadata": {},
   "outputs": [
    {
     "name": "stdout",
     "output_type": "stream",
     "text": [
      "<class 'pandas.core.frame.DataFrame'>\n",
      "RangeIndex: 1000 entries, 0 to 999\n",
      "Data columns (total 10 columns):\n",
      " #   Column                       Non-Null Count  Dtype  \n",
      "---  ------                       --------------  -----  \n",
      " 0   gender                       1000 non-null   int64  \n",
      " 1   race_ethnicity               1000 non-null   object \n",
      " 2   parental_level_of_education  1000 non-null   object \n",
      " 3   lunch                        1000 non-null   int64  \n",
      " 4   test_preparation_course      1000 non-null   int64  \n",
      " 5   math_score                   1000 non-null   int64  \n",
      " 6   reading_score                1000 non-null   int64  \n",
      " 7   writing_score                1000 non-null   int64  \n",
      " 8   total_score                  1000 non-null   int64  \n",
      " 9   average_score                1000 non-null   float64\n",
      "dtypes: float64(1), int64(7), object(2)\n",
      "memory usage: 78.2+ KB\n"
     ]
    }
   ],
   "source": [
    "#fetching the asic information from the dataset\n",
    "df.info()"
   ]
  },
  {
   "cell_type": "code",
   "execution_count": 9,
   "metadata": {},
   "outputs": [
    {
     "data": {
      "text/html": [
       "<div>\n",
       "<style scoped>\n",
       "    .dataframe tbody tr th:only-of-type {\n",
       "        vertical-align: middle;\n",
       "    }\n",
       "\n",
       "    .dataframe tbody tr th {\n",
       "        vertical-align: top;\n",
       "    }\n",
       "\n",
       "    .dataframe thead th {\n",
       "        text-align: right;\n",
       "    }\n",
       "</style>\n",
       "<table border=\"1\" class=\"dataframe\">\n",
       "  <thead>\n",
       "    <tr style=\"text-align: right;\">\n",
       "      <th></th>\n",
       "      <th>gender</th>\n",
       "      <th>lunch</th>\n",
       "      <th>test_preparation_course</th>\n",
       "      <th>math_score</th>\n",
       "      <th>reading_score</th>\n",
       "      <th>writing_score</th>\n",
       "      <th>total_score</th>\n",
       "      <th>average_score</th>\n",
       "    </tr>\n",
       "  </thead>\n",
       "  <tbody>\n",
       "    <tr>\n",
       "      <th>count</th>\n",
       "      <td>1000.000000</td>\n",
       "      <td>1000.000000</td>\n",
       "      <td>1000.000000</td>\n",
       "      <td>1000.00000</td>\n",
       "      <td>1000.000000</td>\n",
       "      <td>1000.000000</td>\n",
       "      <td>1000.000000</td>\n",
       "      <td>1000.000000</td>\n",
       "    </tr>\n",
       "    <tr>\n",
       "      <th>mean</th>\n",
       "      <td>0.482000</td>\n",
       "      <td>0.645000</td>\n",
       "      <td>0.358000</td>\n",
       "      <td>66.08900</td>\n",
       "      <td>69.169000</td>\n",
       "      <td>68.054000</td>\n",
       "      <td>203.312000</td>\n",
       "      <td>67.770667</td>\n",
       "    </tr>\n",
       "    <tr>\n",
       "      <th>std</th>\n",
       "      <td>0.499926</td>\n",
       "      <td>0.478753</td>\n",
       "      <td>0.479652</td>\n",
       "      <td>15.16308</td>\n",
       "      <td>14.600192</td>\n",
       "      <td>15.195657</td>\n",
       "      <td>42.771978</td>\n",
       "      <td>14.257326</td>\n",
       "    </tr>\n",
       "    <tr>\n",
       "      <th>min</th>\n",
       "      <td>0.000000</td>\n",
       "      <td>0.000000</td>\n",
       "      <td>0.000000</td>\n",
       "      <td>0.00000</td>\n",
       "      <td>17.000000</td>\n",
       "      <td>10.000000</td>\n",
       "      <td>27.000000</td>\n",
       "      <td>9.000000</td>\n",
       "    </tr>\n",
       "    <tr>\n",
       "      <th>25%</th>\n",
       "      <td>0.000000</td>\n",
       "      <td>0.000000</td>\n",
       "      <td>0.000000</td>\n",
       "      <td>57.00000</td>\n",
       "      <td>59.000000</td>\n",
       "      <td>57.750000</td>\n",
       "      <td>175.000000</td>\n",
       "      <td>58.333333</td>\n",
       "    </tr>\n",
       "    <tr>\n",
       "      <th>50%</th>\n",
       "      <td>0.000000</td>\n",
       "      <td>1.000000</td>\n",
       "      <td>0.000000</td>\n",
       "      <td>66.00000</td>\n",
       "      <td>70.000000</td>\n",
       "      <td>69.000000</td>\n",
       "      <td>205.000000</td>\n",
       "      <td>68.333333</td>\n",
       "    </tr>\n",
       "    <tr>\n",
       "      <th>75%</th>\n",
       "      <td>1.000000</td>\n",
       "      <td>1.000000</td>\n",
       "      <td>1.000000</td>\n",
       "      <td>77.00000</td>\n",
       "      <td>79.000000</td>\n",
       "      <td>79.000000</td>\n",
       "      <td>233.000000</td>\n",
       "      <td>77.666667</td>\n",
       "    </tr>\n",
       "    <tr>\n",
       "      <th>max</th>\n",
       "      <td>1.000000</td>\n",
       "      <td>1.000000</td>\n",
       "      <td>1.000000</td>\n",
       "      <td>100.00000</td>\n",
       "      <td>100.000000</td>\n",
       "      <td>100.000000</td>\n",
       "      <td>300.000000</td>\n",
       "      <td>100.000000</td>\n",
       "    </tr>\n",
       "  </tbody>\n",
       "</table>\n",
       "</div>"
      ],
      "text/plain": [
       "            gender        lunch  test_preparation_course  math_score  \\\n",
       "count  1000.000000  1000.000000              1000.000000  1000.00000   \n",
       "mean      0.482000     0.645000                 0.358000    66.08900   \n",
       "std       0.499926     0.478753                 0.479652    15.16308   \n",
       "min       0.000000     0.000000                 0.000000     0.00000   \n",
       "25%       0.000000     0.000000                 0.000000    57.00000   \n",
       "50%       0.000000     1.000000                 0.000000    66.00000   \n",
       "75%       1.000000     1.000000                 1.000000    77.00000   \n",
       "max       1.000000     1.000000                 1.000000   100.00000   \n",
       "\n",
       "       reading_score  writing_score  total_score  average_score  \n",
       "count    1000.000000    1000.000000  1000.000000    1000.000000  \n",
       "mean       69.169000      68.054000   203.312000      67.770667  \n",
       "std        14.600192      15.195657    42.771978      14.257326  \n",
       "min        17.000000      10.000000    27.000000       9.000000  \n",
       "25%        59.000000      57.750000   175.000000      58.333333  \n",
       "50%        70.000000      69.000000   205.000000      68.333333  \n",
       "75%        79.000000      79.000000   233.000000      77.666667  \n",
       "max       100.000000     100.000000   300.000000     100.000000  "
      ]
     },
     "execution_count": 9,
     "metadata": {},
     "output_type": "execute_result"
    }
   ],
   "source": [
    "#Getting stats summary \n",
    "df.describe()"
   ]
  },
  {
   "cell_type": "markdown",
   "metadata": {},
   "source": [
    "Exploratory Data Analysis (EDA)\n",
    "\n",
    "Math Score Distribution by Gender\n",
    "\n",
    "To show the differences in math scores between male and female students, I will make a boxplot.\n",
    "\n"
   ]
  },
  {
   "cell_type": "code",
   "execution_count": 10,
   "metadata": {},
   "outputs": [
    {
     "data": {
      "image/png": "[encoded data removed]",
      "text/plain": [
       "<Figure size 720x432 with 1 Axes>"
      ]
     },
     "metadata": {
      "needs_background": "light"
     },
     "output_type": "display_data"
    }
   ],
   "source": [
    "# setting the plot style\n",
    "sns.set(style='whitegrid')\n",
    "\n",
    "#creating a boxplot for math score by gender\n",
    "plt.figure(figsize=(10,6))\n",
    "sns.boxplot(x='gender', y='math_score', data=df, palette='Blues', hue='gender')\n",
    "\n",
    "plt.title('Math Scores by Gender')\n",
    "\n",
    "plt.xlabel('Gender')\n",
    "\n",
    "plt.ylabel('Math Score')\n",
    "\n",
    "plt.show()\n"
   ]
  },
  {
   "cell_type": "markdown",
   "metadata": {},
   "source": [
    "Similarly, creating boxplot for reading and writing scores by gender "
   ]
  },
  {
   "cell_type": "code",
   "execution_count": 13,
   "metadata": {},
   "outputs": [
    {
     "data": {
      "image/png": "[encoded data removed]",
      "text/plain": [
       "<Figure size 720x432 with 1 Axes>"
      ]
     },
     "metadata": {
      "needs_background": "light"
     },
     "output_type": "display_data"
    }
   ],
   "source": [
    "# Boxplot for reading scores by gender\n",
    "\n",
    "plt.figure(figsize=(10,6))\n",
    "\n",
    "sns.boxplot(x='gender', y='reading_score', data=df, palette='Reds', hue='gender')\n",
    "\n",
    "plt.title('Reading scores by gender')\n",
    "\n",
    "plt.xlabel('gender')\n",
    "\n",
    "plt.ylabel('Reading score')\n",
    "\n",
    "plt.show()"
   ]
  },
  {
   "cell_type": "code",
   "execution_count": 14,
   "metadata": {},
   "outputs": [
    {
     "data": {
      "image/png": "[encoded data removed]",
      "text/plain": [
       "<Figure size 720x432 with 1 Axes>"
      ]
     },
     "metadata": {
      "needs_background": "light"
     },
     "output_type": "display_data"
    }
   ],
   "source": [
    "# Boxplot for writing scores by gender\n",
    "\n",
    "plt.figure(figsize=(10,6))\n",
    "\n",
    "sns.boxplot(x='gender', y='writing_score', data=df, palette='Blues', hue='gender')\n",
    "\n",
    "plt.title('Writing scores by gender')\n",
    "\n",
    "plt.xlabel('gender')\n",
    "\n",
    "plt.ylabel('Writing score')\n",
    "\n",
    "plt.show()"
   ]
  },
  {
   "cell_type": "markdown",
   "metadata": {},
   "source": [
    "Average Results by Educational Level of Parents\n",
    "\n",
    "We can also examine the effects of parental education on students' academic achievement in every area."
   ]
  },
  {
   "cell_type": "code",
   "execution_count": 20,
   "metadata": {},
   "outputs": [
    {
     "name": "stderr",
     "output_type": "stream",
     "text": [
      "<ipython-input-20-ddfdd13842b3>:9: FutureWarning: \n",
      "\n",
      "Passing `palette` without assigning `hue` is deprecated and will be removed in v0.14.0. Assign the `x` variable to `hue` and set `legend=False` for the same effect.\n",
      "\n",
      "  sns.barplot(x='parental_level_of_education', y='average_score', data=df, palette=\"mako\")\n"
     ]
    },
    {
     "data": {
      "image/png": "[encoded data removed]",
      "text/plain": [
       "<Figure size 1008x432 with 1 Axes>"
      ]
     },
     "metadata": {
      "needs_background": "light"
     },
     "output_type": "display_data"
    }
   ],
   "source": [
    "# Calculating avg scores for each parental education level \n",
    "\n",
    "df['average_score'] = df[['math_score','reading_score','writing_score']].mean(axis=1)\n",
    "\n",
    "#Box plot of average scores by parental level of education \n",
    "\n",
    "plt.figure(figsize=(14,6))\n",
    "\n",
    "sns.barplot(x='parental_level_of_education', y='average_score', data=df, palette=\"mako\")\n",
    "\n",
    "plt.title('Average scores of Parental level of Education')\n",
    "\n",
    "plt.xlabel('Parental level of Education')\n",
    "\n",
    "plt.ylabel('Average score')\n",
    "\n",
    "plt.xticks(rotation=45)\n",
    "\n",
    "plt.show()"
   ]
  },
  {
   "cell_type": "markdown",
   "metadata": {},
   "source": [
    "Lunch's Effect on Performance\n",
    "\n",
    "Let's examine how student performance is impacted by the type of lunch.\n"
   ]
  },
  {
   "cell_type": "code",
   "execution_count": 21,
   "metadata": {},
   "outputs": [
    {
     "data": {
      "image/png": "[encoded data removed]",
      "text/plain": [
       "<Figure size 720x432 with 1 Axes>"
      ]
     },
     "metadata": {
      "needs_background": "light"
     },
     "output_type": "display_data"
    }
   ],
   "source": [
    "#Boxplot for average score based on lunch type (standard lunch=1, free/reduced lunch=0)\n",
    "\n",
    "plt.figure(figsize=(10,6))\n",
    "\n",
    "sns.boxplot(x='lunch', y='average_score', data=df, palette='Set3', hue=\"lunch\")\n",
    "\n",
    "plt.title('Average Scores by lunch type')\n",
    "\n",
    "plt.xlabel('Lunch type')\n",
    "\n",
    "plt.ylabel('Average score')\n",
    "\n",
    "plt.show()"
   ]
  },
  {
   "cell_type": "markdown",
   "metadata": {},
   "source": [
    "Test Preparation Course's Effect on Performance\n",
    "\n",
    "We can also examine if taking a test-prep course affects how well students perform.\n"
   ]
  },
  {
   "cell_type": "code",
   "execution_count": 22,
   "metadata": {},
   "outputs": [
    {
     "data": {
      "image/png": "[encoded data removed]",
      "text/plain": [
       "<Figure size 720x432 with 1 Axes>"
      ]
     },
     "metadata": {
      "needs_background": "light"
     },
     "output_type": "display_data"
    }
   ],
   "source": [
    "plt.figure(figsize=(10, 6))\n",
    "\n",
    "sns.boxplot(x='test_preparation_course', y='average_score', data=df, palette=\"Set2\", hue=\"test_preparation_course\")\n",
    "\n",
    "plt.title('Average Scores by Test Preparation Course Completion')\n",
    "\n",
    "plt.xlabel('Test Preparation Course')\n",
    "\n",
    "plt.ylabel('Average Score')\n",
    "\n",
    "plt.show()"
   ]
  },
  {
   "cell_type": "markdown",
   "metadata": {},
   "source": [
    "Correlation Analysis"
   ]
  },
  {
   "cell_type": "code",
   "execution_count": 23,
   "metadata": {},
   "outputs": [
    {
     "name": "stdout",
     "output_type": "stream",
     "text": [
      "                           gender     lunch  test_preparation_course  \\\n",
      "gender                   1.000000  0.021372                 0.006028   \n",
      "lunch                    0.021372  1.000000                -0.017044   \n",
      "test_preparation_course  0.006028 -0.017044                 1.000000   \n",
      "math_score               0.167982  0.350877                 0.177702   \n",
      "reading_score           -0.244313  0.229560                 0.241780   \n",
      "writing_score           -0.301225  0.245769                 0.312946   \n",
      "total_score             -0.130861  0.290064                 0.256710   \n",
      "average_score           -0.130861  0.290064                 0.256710   \n",
      "\n",
      "                         math_score  reading_score  writing_score  \\\n",
      "gender                     0.167982      -0.244313      -0.301225   \n",
      "lunch                      0.350877       0.229560       0.245769   \n",
      "test_preparation_course    0.177702       0.241780       0.312946   \n",
      "math_score                 1.000000       0.817580       0.802642   \n",
      "reading_score              0.817580       1.000000       0.954598   \n",
      "writing_score              0.802642       0.954598       1.000000   \n",
      "total_score                0.918746       0.970331       0.965667   \n",
      "average_score              0.918746       0.970331       0.965667   \n",
      "\n",
      "                         total_score  average_score  \n",
      "gender                     -0.130861      -0.130861  \n",
      "lunch                       0.290064       0.290064  \n",
      "test_preparation_course     0.256710       0.256710  \n",
      "math_score                  0.918746       0.918746  \n",
      "reading_score               0.970331       0.970331  \n",
      "writing_score               0.965667       0.965667  \n",
      "total_score                 1.000000       1.000000  \n",
      "average_score               1.000000       1.000000  \n"
     ]
    },
    {
     "data": {
      "image/png": "[encoded data removed]",
      "text/plain": [
       "<Figure size 720x576 with 2 Axes>"
      ]
     },
     "metadata": {
      "needs_background": "light"
     },
     "output_type": "display_data"
    }
   ],
   "source": [
    "correlation_matrix = df[['gender', 'lunch', 'test_preparation_course', 'math_score', 'reading_score', 'writing_score', 'total_score', 'average_score']].corr()\n",
    "\n",
    "#display correlation matrix \n",
    "\n",
    "print(correlation_matrix)\n",
    "\n",
    "#setting up matplotlib figure for heatmap \n",
    "\n",
    "plt.figure(figsize=(10,8))\n",
    "\n",
    "# Create heatmap using seaborn\n",
    "\n",
    "sns.heatmap(correlation_matrix, annot=True, cmap='bwr', vmin=0, vmax=1, linewidths=0.5)\n",
    "\n",
    "plt.title('Correlation Matrix of Student Performance Metrics')\n",
    "\n",
    "plt.show()\n",
    "\n"
   ]
  },
  {
   "cell_type": "markdown",
   "metadata": {},
   "source": [
    "Analysis of Statistics\n",
    "\n",
    "T-Test: Gender Comparison of Math Scores\n",
    "\n",
    "To compare male and female students arithmetic scores statistically:\n",
    "\n"
   ]
  },
  {
   "cell_type": "code",
   "execution_count": 24,
   "metadata": {},
   "outputs": [
    {
     "name": "stdout",
     "output_type": "stream",
     "text": [
      "T-statistic: 5.383245869828983, P-value: 9.120185549328822e-08\n"
     ]
    }
   ],
   "source": [
    "from scipy import stats\n",
    "\n",
    "# Separate math scores by gender\n",
    "\n",
    "male_math_scores = df[df['gender'] == 1]['math_score']\n",
    "\n",
    "female_math_scores = df[df['gender'] == 0]['math_score']\n",
    "\n",
    "# Perform independent t-test\n",
    "\n",
    "t_statistic, p_value = stats.ttest_ind(male_math_scores, female_math_scores)\n",
    "\n",
    "print(f\"T-statistic: {t_statistic}, P-value: {p_value}\")"
   ]
  },
  {
   "cell_type": "markdown",
   "metadata": {},
   "source": [
    "Comparing Results Across Parental Education Levels using ANOVA\n",
    "\n",
    "To determine whether the average scores for the various parental education levels differ significantly:\n"
   ]
  },
  {
   "cell_type": "code",
   "execution_count": 25,
   "metadata": {},
   "outputs": [
    {
     "name": "stdout",
     "output_type": "stream",
     "text": [
      "ANOVA result: F-statistic = 10.75314696233657, P-value = 4.3810464809431664e-10\n"
     ]
    }
   ],
   "source": [
    "anova_result = stats.f_oneway(\n",
    "\n",
    "    df[df['parental_level_of_education'] == \"high school\"]['average_score'],\n",
    "\n",
    "    df[df['parental_level_of_education'] == \"associate's degree\"]['average_score'],\n",
    "\n",
    "    df[df['parental_level_of_education'] == \"bachelor's degree\"]['average_score'],\n",
    "\n",
    "    df[df['parental_level_of_education'] == \"master's degree\"]['average_score'],\n",
    "\n",
    "    df[df['parental_level_of_education'] == \"some college\"]['average_score'],\n",
    "\n",
    "    df[df['parental_level_of_education'] == \"some high school\"]['average_score']\n",
    "\n",
    ")\n",
    "\n",
    "print(f\"ANOVA result: F-statistic = {anova_result.statistic}, P-value = {anova_result.pvalue}\")"
   ]
  },
  {
   "cell_type": "markdown",
   "metadata": {},
   "source": [
    "Predictive Model (Linear Regression)"
   ]
  },
  {
   "cell_type": "code",
   "execution_count": 26,
   "metadata": {},
   "outputs": [],
   "source": [
    "import numpy as np\n",
    "\n",
    "from sklearn.model_selection import train_test_split\n",
    "\n",
    "from sklearn.linear_model import LinearRegression\n",
    "\n",
    "from sklearn.metrics import mean_squared_error, r2_score"
   ]
  },
  {
   "cell_type": "code",
   "execution_count": 27,
   "metadata": {},
   "outputs": [
    {
     "name": "stdout",
     "output_type": "stream",
     "text": [
      "Root Mean Squared Error (RMSE): 1.720041842206428e-14\n",
      "R-squared (R²): 1.0\n"
     ]
    }
   ],
   "source": [
    "# Define features (X) and target variable (y)\n",
    "\n",
    "X = df[['math_score', 'reading_score', 'writing_score']]  # Features\n",
    "\n",
    "y = df['total_score']  # Target variable (total score)\n",
    "\n",
    "# Split data into training and testing sets (80% train, 20% test)\n",
    "\n",
    "X_train, X_test, y_train, y_test = train_test_split(X, y, test_size=0.2, random_state=42)\n",
    "\n",
    "# Initialize the Linear Regression model\n",
    "\n",
    "model = LinearRegression()\n",
    "\n",
    "# Train the model on training data\n",
    "\n",
    "model.fit(X_train, y_train)\n",
    "\n",
    "# Make predictions on the test set\n",
    "\n",
    "y_pred = model.predict(X_test)\n",
    "\n",
    "# Calculate Root Mean Squared Error (RMSE)\n",
    "\n",
    "rmse = np.sqrt(mean_squared_error(y_test, y_pred))\n",
    "\n",
    "# Calculate R-squared (R²) score\n",
    "\n",
    "r2 = r2_score(y_test, y_pred)\n",
    "\n",
    "# Print performance metrics\n",
    "\n",
    "print(f\"Root Mean Squared Error (RMSE): {rmse}\")\n",
    "\n",
    "print(f\"R-squared (R²): {r2}\")"
   ]
  },
  {
   "cell_type": "markdown",
   "metadata": {},
   "source": [
    "Visualize Predictions vs Actual Outcomes\n",
    "\n",
    "Create a scatter plot with a diagonal line representing perfect predictions."
   ]
  },
  {
   "cell_type": "code",
   "execution_count": 28,
   "metadata": {},
   "outputs": [
    {
     "data": {
      "image/png": "[encoded data removed]",
      "text/plain": [
       "<Figure size 720x432 with 1 Axes>"
      ]
     },
     "metadata": {
      "needs_background": "light"
     },
     "output_type": "display_data"
    }
   ],
   "source": [
    "# Plot actual vs predicted total scores\n",
    "\n",
    "plt.figure(figsize=(10, 6))\n",
    "\n",
    "plt.scatter(y_test, y_pred, color='blue', label='Predicted vs Actual')\n",
    "\n",
    "plt.plot([min(y_test), max(y_test)], [min(y_test), max(y_test)], color='red', linestyle='--', label='Perfect Fit')\n",
    "\n",
    "# Add labels and title to the plot\n",
    "\n",
    "plt.xlabel('Actual Total Score')\n",
    "\n",
    "plt.ylabel('Predicted Total Score')\n",
    "\n",
    "plt.title('Predictions vs Actual Outcomes')\n",
    "\n",
    "plt.legend()\n",
    "\n",
    "# Show plot\n",
    "\n",
    "plt.show()"
   ]
  },
  {
   "cell_type": "code",
   "execution_count": null,
   "metadata": {},
   "outputs": [],
   "source": []
  }
 ],
 "metadata": {
  "kernelspec": {
   "display_name": "base",
   "language": "python",
   "name": "python3"
  },
  "language_info": {
   "codemirror_mode": {
    "name": "ipython",
    "version": 3
   },
   "file_extension": ".py",
   "mimetype": "text/x-python",
   "name": "python",
   "nbconvert_exporter": "python",
   "pygments_lexer": "ipython3",
   "version": "3.8.3"
  }
 },
 "nbformat": 4,
 "nbformat_minor": 2
}
